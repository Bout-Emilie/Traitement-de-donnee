{
  "cells": [
    {
      "cell_type": "code",
      "execution_count": 4,
      "id": "9fde8b91-4ebb-4599-b004-d314bc327ad4",
      "metadata": {
        "trusted": true
      },
      "outputs": [],
      "source": [
        "transactions = [ (\"AAPL\", 10, 145.0), \n",
        "                 (\"GOOGL\", 5, 2800.0),\n",
        "                 (\"TSLA\", 8, 700.0),\n",
        "                 (\"AAPL\", 5, 150.0),\n",
        "                  (\"MSFT\", 12, 300.0),\n",
        "                  (\"TSLA\", 2, 710.0)]"
      ]
    },
    {
      "cell_type": "code",
      "execution_count": 7,
      "id": "d4542b59-4952-4191-80e6-7310228b7f7c",
      "metadata": {
        "trusted": true
      },
      "outputs": [
        {
          "name": "stdout",
          "output_type": "stream",
          "text": [
            "['AAPL', 'GOOGL', 'TSLA', 'AAPL', 'MSFT', 'TSLA']\n"
          ]
        }
      ],
      "source": [
        "actions_liste = []\n",
        "for t in transactions:\n",
        "    actions_liste.append(t[0])\n",
        "print(actions_liste)"
      ]
    },
    {
      "cell_type": "code",
      "execution_count": 9,
      "id": "bfc5ec16-2b22-4865-a735-44b96e598ad9",
      "metadata": {
        "trusted": true
      },
      "outputs": [
        {
          "name": "stdout",
          "output_type": "stream",
          "text": [
            "['AAPL', 'GOOGL', 'TSLA', 'AAPL', 'MSFT', 'TSLA']\n"
          ]
        }
      ],
      "source": [
        "actions_liste = [t[0] for t in transactions]\n",
        "print(actions_liste)"
      ]
    },
    {
      "cell_type": "code",
      "execution_count": 10,
      "id": "96845498-16c0-4fa3-872b-05a2b1a85d30",
      "metadata": {
        "trusted": true
      },
      "outputs": [
        {
          "name": "stdout",
          "output_type": "stream",
          "text": [
            "Actions uniques : {'TSLA', 'MSFT', 'AAPL', 'GOOGL'}\n"
          ]
        }
      ],
      "source": [
        "actions_uniques = set(actions_liste)\n",
        "print(\"Actions uniques :\", actions_uniques)"
      ]
    },
    {
      "cell_type": "code",
      "execution_count": 15,
      "id": "8a63164f-74cb-472f-b506-9607ebfb5ae1",
      "metadata": {
        "trusted": true
      },
      "outputs": [],
      "source": [
        "max_transaction= max(transactions, key=lambda t: t[2])"
      ]
    },
    {
      "cell_type": "code",
      "execution_count": 16,
      "id": "88a60bc2-36c0-453d-aac2-2b0676a9c903",
      "metadata": {
        "trusted": true
      },
      "outputs": [],
      "source": [
        "min_transaction= min(transactions, key=lambda t: t[2])"
      ]
    },
    {
      "cell_type": "code",
      "execution_count": 17,
      "id": "53db6028-280c-448f-809e-acf7ff52e269",
      "metadata": {
        "trusted": true
      },
      "outputs": [
        {
          "name": "stdout",
          "output_type": "stream",
          "text": [
            "Transactions extrêmes : (('AAPL', 10, 145.0), ('GOOGL', 5, 2800.0))\n"
          ]
        }
      ],
      "source": [
        "prix_extremes = (min_transaction, max_transaction)  \n",
        "print(\"Transactions extrêmes :\", prix_extremes)"
      ]
    },
    {
      "cell_type": "code",
      "execution_count": 26,
      "id": "2cedb08c-5cca-47d9-a4b8-7742628e213c",
      "metadata": {
        "trusted": true
      },
      "outputs": [
        {
          "name": "stdout",
          "output_type": "stream",
          "text": [
            "Totaux par action : {'AAPL': 15, 'GOOGL': 5, 'TSLA': 10, 'MSFT': 12}\n"
          ]
        }
      ],
      "source": [
        "totaux = {}\n",
        "for t in transactions:\n",
        "    action, quantite, prix = t\n",
        "    totaux[action] = totaux.get(action, 0) + quantite\n",
        "print(\"Totaux par action :\", totaux)"
      ]
    },
    {
      "cell_type": "code",
      "execution_count": null,
      "id": "868c6767-c100-4536-b160-0cd3d9d90a8a",
      "metadata": {
        "trusted": true
      },
      "outputs": [],
      "source": []
    }
  ],
  "metadata": {
    "kernelspec": {
      "display_name": "Python (Pyodide)",
      "language": "python",
      "name": "python"
    },
    "language_info": {
      "codemirror_mode": {
        "name": "python",
        "version": 3
      },
      "file_extension": ".py",
      "mimetype": "text/x-python",
      "name": "python",
      "nbconvert_exporter": "python",
      "pygments_lexer": "ipython3",
      "version": "3.8"
    }
  },
  "nbformat": 4,
  "nbformat_minor": 5
}
