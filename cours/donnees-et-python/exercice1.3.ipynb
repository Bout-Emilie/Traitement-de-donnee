{
  "metadata": {
    "kernelspec": {
      "name": "python",
      "display_name": "Python (Pyodide)",
      "language": "python"
    },
    "language_info": {
      "codemirror_mode": {
        "name": "python",
        "version": 3
      },
      "file_extension": ".py",
      "mimetype": "text/x-python",
      "name": "python",
      "nbconvert_exporter": "python",
      "pygments_lexer": "ipython3",
      "version": "3.8"
    }
  },
  "nbformat_minor": 5,
  "nbformat": 4,
  "cells": [
    {
      "id": "7b3ad165-5b81-4d94-9ff0-88978eabcff7",
      "cell_type": "code",
      "source": "import pandas as pd\nchunksize = 100_000\nfor chunk in pd.read_csv(\"fichier_volumineux.csv\", chunksize=chunksize):\n    print(len(chunk))\n    print(chunk.head())\n",
      "metadata": {
        "trusted": true
      },
      "outputs": [
        {
          "name": "stdout",
          "output_type": "stream",
          "text": "100000\n                  Date   Produit  Quantité  Prix_Unitaire      Ville\n0  2025-01-01 00:00:00  ProduitC         1           8.94      Paris\n1  2025-01-01 00:01:00  ProduitB         9           9.45   Toulouse\n2  2025-01-01 00:02:00  ProduitB         1          39.37      Paris\n3  2025-01-01 00:03:00  ProduitA         7          32.81  Marseille\n4  2025-01-01 00:04:00  ProduitA         1          37.92       Lyon\n100000\n                       Date   Produit  Quantité  Prix_Unitaire      Ville\n100000  2025-03-11 10:40:00  ProduitB         4          23.05  Marseille\n100001  2025-03-11 10:41:00  ProduitC         5          26.87      Paris\n100002  2025-03-11 10:42:00  ProduitA         8          29.89      Paris\n100003  2025-03-11 10:43:00  ProduitB         7          15.41   Toulouse\n100004  2025-03-11 10:44:00  ProduitB         3          28.02       Lyon\n100000\n                       Date   Produit  Quantité  Prix_Unitaire      Ville\n200000  2025-05-19 21:20:00  ProduitB         6          17.69  Marseille\n200001  2025-05-19 21:21:00  ProduitA         6          17.63      Paris\n200002  2025-05-19 21:22:00  ProduitA         1          41.74      Paris\n200003  2025-05-19 21:23:00  ProduitA         7          33.33       Lyon\n200004  2025-05-19 21:24:00  ProduitB         9          42.01       Lyon\n100000\n                       Date   Produit  Quantité  Prix_Unitaire      Ville\n300000  2025-07-28 08:00:00  ProduitC         9          30.46       Lyon\n300001  2025-07-28 08:01:00  ProduitC         8          35.45  Marseille\n300002  2025-07-28 08:02:00  ProduitC         5          32.07  Marseille\n300003  2025-07-28 08:03:00  ProduitA         7          35.22  Marseille\n300004  2025-07-28 08:04:00  ProduitC         4           6.27  Marseille\n100000\n                       Date   Produit  Quantité  Prix_Unitaire      Ville\n400000  2025-10-05 18:40:00  ProduitC         8          32.36   Toulouse\n400001  2025-10-05 18:41:00  ProduitC         2          47.49   Toulouse\n400002  2025-10-05 18:42:00  ProduitB         5          22.77  Marseille\n400003  2025-10-05 18:43:00  ProduitB         3          28.28   Toulouse\n400004  2025-10-05 18:44:00  ProduitA         1          44.36   Toulouse\n100000\n                       Date   Produit  Quantité  Prix_Unitaire      Ville\n500000  2025-12-14 05:20:00  ProduitB         7          14.48  Marseille\n500001  2025-12-14 05:21:00  ProduitC         9          34.74   Toulouse\n500002  2025-12-14 05:22:00  ProduitC         5          30.18       Lyon\n500003  2025-12-14 05:23:00  ProduitA         6          36.83      Paris\n500004  2025-12-14 05:24:00  ProduitA         1          42.37  Marseille\n100000\n                       Date   Produit  Quantité  Prix_Unitaire      Ville\n600000  2026-02-21 16:00:00  ProduitC         4          13.43       Lyon\n600001  2026-02-21 16:01:00  ProduitB         2          45.06       Lyon\n600002  2026-02-21 16:02:00  ProduitA         3          25.81      Paris\n600003  2026-02-21 16:03:00  ProduitB         1          26.00  Marseille\n600004  2026-02-21 16:04:00  ProduitC         7          34.15   Toulouse\n100000\n                       Date   Produit  Quantité  Prix_Unitaire      Ville\n700000  2026-05-02 02:40:00  ProduitA         1          47.53   Toulouse\n700001  2026-05-02 02:41:00  ProduitC         3          12.27      Paris\n700002  2026-05-02 02:42:00  ProduitA         4          24.15  Marseille\n700003  2026-05-02 02:43:00  ProduitA         5          27.57  Marseille\n700004  2026-05-02 02:44:00  ProduitC         5          34.38      Paris\n100000\n                       Date   Produit  Quantité  Prix_Unitaire      Ville\n800000  2026-07-10 13:20:00  ProduitC         2          42.88       Lyon\n800001  2026-07-10 13:21:00  ProduitB         4          26.89      Paris\n800002  2026-07-10 13:22:00  ProduitB         7          12.66  Marseille\n800003  2026-07-10 13:23:00  ProduitB         7          12.41  Marseille\n800004  2026-07-10 13:24:00  ProduitC         9          25.47   Toulouse\n100000\n                       Date   Produit  Quantité  Prix_Unitaire      Ville\n900000  2026-09-18 00:00:00  ProduitA         6          42.79      Paris\n900001  2026-09-18 00:01:00  ProduitA         8          27.04   Toulouse\n900002  2026-09-18 00:02:00  ProduitB         9          27.42  Marseille\n900003  2026-09-18 00:03:00  ProduitA         5          12.51      Paris\n900004  2026-09-18 00:04:00  ProduitB         9          20.18      Paris\n"
        }
      ],
      "execution_count": 1
    },
    {
      "id": "493ca4a3-59eb-4d91-80b3-85a5ff7eccaa",
      "cell_type": "code",
      "source": "total_quantite = 0\n\nfor chunk in pd.read_csv(\"fichier_volumineux.csv\", chunksize=chunksize, usecols=['Produit','Quantité']):\n    filtered = chunk[chunk['Produit'] == 'ProduitA']\n    total_quantite += filtered['Quantité'].sum()\n\nprint(f\"Quantité totale vendue de ProduitA : {total_quantite}\")\n",
      "metadata": {
        "trusted": true
      },
      "outputs": [
        {
          "name": "stdout",
          "output_type": "stream",
          "text": "Quantité totale vendue de ProduitA : 1673156\n"
        }
      ],
      "execution_count": 2
    },
    {
      "id": "82c9c62e-afe1-45b4-aab5-c9aa756940ca",
      "cell_type": "code",
      "source": "for chunk in pd.read_csv(\"fichier_volumineux.csv\", chunksize=chunksize):\n    print(chunk.memory_usage(deep=True))\n    chunk['Quantité'] = chunk['Quantité'].astype('int32')\n    chunk['Prix_Unitaire'] = chunk['Prix_Unitaire'].astype('float32')\n    print(chunk.memory_usage(deep=True))\n",
      "metadata": {
        "trusted": true,
        "scrolled": true
      },
      "outputs": [
        {
          "name": "stdout",
          "output_type": "stream",
          "text": "Index                 72\nDate             4400000\nProduit          3300000\nQuantité          800000\nPrix_Unitaire     800000\nVille            3149816\ndtype: int64\nIndex                 72\nDate             4400000\nProduit          3300000\nQuantité          400000\nPrix_Unitaire     400000\nVille            3149816\ndtype: int64\nIndex                 72\nDate             4400000\nProduit          3300000\nQuantité          800000\nPrix_Unitaire     800000\nVille            3150962\ndtype: int64\nIndex                 72\nDate             4400000\nProduit          3300000\nQuantité          400000\nPrix_Unitaire     400000\nVille            3150962\ndtype: int64\nIndex                 72\nDate             4400000\nProduit          3300000\nQuantité          800000\nPrix_Unitaire     800000\nVille            3150365\ndtype: int64\nIndex                 72\nDate             4400000\nProduit          3300000\nQuantité          400000\nPrix_Unitaire     400000\nVille            3150365\ndtype: int64\nIndex                 72\nDate             4400000\nProduit          3300000\nQuantité          800000\nPrix_Unitaire     800000\nVille            3149998\ndtype: int64\nIndex                 72\nDate             4400000\nProduit          3300000\nQuantité          400000\nPrix_Unitaire     400000\nVille            3149998\ndtype: int64\nIndex                 72\nDate             4400000\nProduit          3300000\nQuantité          800000\nPrix_Unitaire     800000\nVille            3150331\ndtype: int64\nIndex                 72\nDate             4400000\nProduit          3300000\nQuantité          400000\nPrix_Unitaire     400000\nVille            3150331\ndtype: int64\nIndex                 72\nDate             4400000\nProduit          3300000\nQuantité          800000\nPrix_Unitaire     800000\nVille            3149849\ndtype: int64\nIndex                 72\nDate             4400000\nProduit          3300000\nQuantité          400000\nPrix_Unitaire     400000\nVille            3149849\ndtype: int64\nIndex                 72\nDate             4400000\nProduit          3300000\nQuantité          800000\nPrix_Unitaire     800000\nVille            3151422\ndtype: int64\nIndex                 72\nDate             4400000\nProduit          3300000\nQuantité          400000\nPrix_Unitaire     400000\nVille            3151422\ndtype: int64\nIndex                 72\nDate             4400000\nProduit          3300000\nQuantité          800000\nPrix_Unitaire     800000\nVille            3148814\ndtype: int64\nIndex                 72\nDate             4400000\nProduit          3300000\nQuantité          400000\nPrix_Unitaire     400000\nVille            3148814\ndtype: int64\nIndex                 72\nDate             4400000\nProduit          3300000\nQuantité          800000\nPrix_Unitaire     800000\nVille            3149742\ndtype: int64\nIndex                 72\nDate             4400000\nProduit          3300000\nQuantité          400000\nPrix_Unitaire     400000\nVille            3149742\ndtype: int64\nIndex                 72\nDate             4400000\nProduit          3300000\nQuantité          800000\nPrix_Unitaire     800000\nVille            3149862\ndtype: int64\nIndex                 72\nDate             4400000\nProduit          3300000\nQuantité          400000\nPrix_Unitaire     400000\nVille            3149862\ndtype: int64\n"
        }
      ],
      "execution_count": 8
    },
    {
      "id": "d120a452-be33-4477-b486-358e1ca18e9b",
      "cell_type": "code",
      "source": "import gc\n\nfor chunk in pd.read_csv(\"fichier_volumineux.csv\", chunksize=chunksize):\n    # traitement\n    del chunk\n    gc.collect()\n",
      "metadata": {
        "trusted": true
      },
      "outputs": [],
      "execution_count": 11
    },
    {
      "id": "c193b17d-f6c7-499a-8507-6a9676073136",
      "cell_type": "code",
      "source": "",
      "metadata": {
        "trusted": true
      },
      "outputs": [],
      "execution_count": null
    }
  ]
}