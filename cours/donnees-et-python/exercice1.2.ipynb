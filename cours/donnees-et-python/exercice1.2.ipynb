{
  "metadata": {
    "kernelspec": {
      "name": "python",
      "display_name": "Python (Pyodide)",
      "language": "python"
    },
    "language_info": {
      "codemirror_mode": {
        "name": "python",
        "version": 3
      },
      "file_extension": ".py",
      "mimetype": "text/x-python",
      "name": "python",
      "nbconvert_exporter": "python",
      "pygments_lexer": "ipython3",
      "version": "3.8"
    }
  },
  "nbformat_minor": 5,
  "nbformat": 4,
  "cells": [
    {
      "id": "5213d0ea-3046-4c53-9572-c9ef6d10cc9b",
      "cell_type": "code",
      "source": "import pandas as pd\nimport numpy as np\n#  Charger le CSV\ndf = pd.read_csv(\"transactions.csv\",sep=\";\")\n#  Afficher les 5 premières lignes et les infos générales\nprint(\"5 premières lignes :\")\nprint(df.head())\nprint(\"\\nInfos générales :\")\nprint(df.info())",
      "metadata": {
        "trusted": true
      },
      "outputs": [
        {
          "name": "stdout",
          "output_type": "stream",
          "text": "5 premières lignes :\n  action  quantite     prix        date  Unnamed: 4  Unnamed: 5  Unnamed: 6\n0     FB      22.0  1398.93  2025-10-04         NaN         NaN         NaN\n1   MSFT      11.0  2533.97  2025-10-27         NaN         NaN         NaN\n2   NVDA      48.0   623.42  2025-10-22         NaN         NaN         NaN\n3   AMZN      16.0  1263.49  2025-10-31         NaN         NaN         NaN\n4     FB      33.0  2113.56  2025-10-17         NaN         NaN         NaN\n\nInfos générales :\n<class 'pandas.core.frame.DataFrame'>\nRangeIndex: 210 entries, 0 to 209\nData columns (total 7 columns):\n #   Column      Non-Null Count  Dtype  \n---  ------      --------------  -----  \n 0   action      210 non-null    object \n 1   quantite    204 non-null    float64\n 2   prix        204 non-null    float64\n 3   date        210 non-null    object \n 4   Unnamed: 4  0 non-null      float64\n 5   Unnamed: 5  0 non-null      float64\n 6   Unnamed: 6  0 non-null      float64\ndtypes: float64(5), object(2)\nmemory usage: 9.9+ KB\nNone\n"
        }
      ],
      "execution_count": 2
    },
    {
      "id": "33344a41-c586-4400-a3cb-e20c14cdf040",
      "cell_type": "code",
      "source": "# Supprimer les doublons\ndf = df.drop_duplicates()\nprint(\"\\nAprès suppression des doublons :\")\nprint(df)\n#  Supprimer les colonnes vides\ndf = df.dropna(axis=1, how=\"all\")\nprint(\"\\nAprès suppression des colonnes vides :\")\nprint(df)\n#  Supprimer les lignes avec valeurs manquantes\ndf = df.dropna()\nprint(\"\\nAprès suppression des valeurs manquantes :\")\nprint(df)",
      "metadata": {
        "trusted": true
      },
      "outputs": [
        {
          "name": "stdout",
          "output_type": "stream",
          "text": "\nAprès suppression des doublons :\n    action  quantite     prix        date  Unnamed: 4  Unnamed: 5  Unnamed: 6\n0       FB      22.0  1398.93  2025-10-04         NaN         NaN         NaN\n1     MSFT      11.0  2533.97  2025-10-27         NaN         NaN         NaN\n2     NVDA      48.0   623.42  2025-10-22         NaN         NaN         NaN\n3     AMZN      16.0  1263.49  2025-10-31         NaN         NaN         NaN\n4       FB      33.0  2113.56  2025-10-17         NaN         NaN         NaN\n..     ...       ...      ...         ...         ...         ...         ...\n195   NVDA      33.0  1958.20  2025-10-21         NaN         NaN         NaN\n196   AMZN       8.0  1195.39  2025-10-05         NaN         NaN         NaN\n197   MSFT      44.0   726.71  2025-10-18         NaN         NaN         NaN\n198  GOOGL      44.0   834.52  2025-10-28         NaN         NaN         NaN\n199   NFLX       NaN      NaN  2025-10-10         NaN         NaN         NaN\n\n[200 rows x 7 columns]\n\nAprès suppression des colonnes vides :\n    action  quantite     prix        date\n0       FB      22.0  1398.93  2025-10-04\n1     MSFT      11.0  2533.97  2025-10-27\n2     NVDA      48.0   623.42  2025-10-22\n3     AMZN      16.0  1263.49  2025-10-31\n4       FB      33.0  2113.56  2025-10-17\n..     ...       ...      ...         ...\n195   NVDA      33.0  1958.20  2025-10-21\n196   AMZN       8.0  1195.39  2025-10-05\n197   MSFT      44.0   726.71  2025-10-18\n198  GOOGL      44.0   834.52  2025-10-28\n199   NFLX       NaN      NaN  2025-10-10\n\n[200 rows x 4 columns]\n\nAprès suppression des valeurs manquantes :\n    action  quantite     prix        date\n0       FB      22.0  1398.93  2025-10-04\n1     MSFT      11.0  2533.97  2025-10-27\n2     NVDA      48.0   623.42  2025-10-22\n3     AMZN      16.0  1263.49  2025-10-31\n4       FB      33.0  2113.56  2025-10-17\n..     ...       ...      ...         ...\n194   NFLX      37.0   550.56  2025-10-19\n195   NVDA      33.0  1958.20  2025-10-21\n196   AMZN       8.0  1195.39  2025-10-05\n197   MSFT      44.0   726.71  2025-10-18\n198  GOOGL      44.0   834.52  2025-10-28\n\n[195 rows x 4 columns]\n"
        }
      ],
      "execution_count": 3
    },
    {
      "id": "a5e8e7a0-8d38-4391-a364-0602c3c2941e",
      "cell_type": "code",
      "source": "# Créer une colonne total = quantite * prix\ndf[\"total\"] = df[\"quantite\"] * df[\"prix\"]\nprint(\"\\nAprès ajout de la colonne 'total' :\")\nprint(df)\n# Ajouter colonne prix_log = log(prix) avec NumPy\ndf[\"prix_log\"] = np.log(df[\"prix\"])\nprint(\"\\nAprès ajout de la colonne 'prix_log' :\")\nprint(df)",
      "metadata": {
        "trusted": true
      },
      "outputs": [
        {
          "name": "stdout",
          "output_type": "stream",
          "text": "\nAprès ajout de la colonne 'total' :\n    action  quantite     prix        date     total\n0       FB      22.0  1398.93  2025-10-04  30776.46\n1     MSFT      11.0  2533.97  2025-10-27  27873.67\n2     NVDA      48.0   623.42  2025-10-22  29924.16\n3     AMZN      16.0  1263.49  2025-10-31  20215.84\n4       FB      33.0  2113.56  2025-10-17  69747.48\n..     ...       ...      ...         ...       ...\n194   NFLX      37.0   550.56  2025-10-19  20370.72\n195   NVDA      33.0  1958.20  2025-10-21  64620.60\n196   AMZN       8.0  1195.39  2025-10-05   9563.12\n197   MSFT      44.0   726.71  2025-10-18  31975.24\n198  GOOGL      44.0   834.52  2025-10-28  36718.88\n\n[195 rows x 5 columns]\n\nAprès ajout de la colonne 'prix_log' :\n    action  quantite     prix        date     total  prix_log\n0       FB      22.0  1398.93  2025-10-04  30776.46  7.243463\n1     MSFT      11.0  2533.97  2025-10-27  27873.67  7.837543\n2     NVDA      48.0   623.42  2025-10-22  29924.16  6.435220\n3     AMZN      16.0  1263.49  2025-10-31  20215.84  7.141633\n4       FB      33.0  2113.56  2025-10-17  69747.48  7.656129\n..     ...       ...      ...         ...       ...       ...\n194   NFLX      37.0   550.56  2025-10-19  20370.72  6.310936\n195   NVDA      33.0  1958.20  2025-10-21  64620.60  7.579781\n196   AMZN       8.0  1195.39  2025-10-05   9563.12  7.086228\n197   MSFT      44.0   726.71  2025-10-18  31975.24  6.588527\n198  GOOGL      44.0   834.52  2025-10-28  36718.88  6.726857\n\n[195 rows x 6 columns]\n"
        }
      ],
      "execution_count": 4
    },
    {
      "id": "fa259bf0-9f5a-4757-aedd-886e398c81dc",
      "cell_type": "code",
      "source": "# Filtrer pour prix > 100\ndf = df[df[\"prix\"] > 100]\nprint(\"\\nAprès filtrage prix > 100 :\")\nprint(df)\n#  Trier par prix décroissant\\\ndf = df.sort_values(by=\"prix\", ascending=False)\nprint(\"\\nAprès tri par prix décroissant :\")\nprint(df)",
      "metadata": {
        "trusted": true
      },
      "outputs": [
        {
          "name": "stdout",
          "output_type": "stream",
          "text": "\nAprès filtrage prix > 100 :\n    action  quantite     prix        date     total  prix_log\n0       FB      22.0  1398.93  2025-10-04  30776.46  7.243463\n1     MSFT      11.0  2533.97  2025-10-27  27873.67  7.837543\n2     NVDA      48.0   623.42  2025-10-22  29924.16  6.435220\n3     AMZN      16.0  1263.49  2025-10-31  20215.84  7.141633\n4       FB      33.0  2113.56  2025-10-17  69747.48  7.656129\n..     ...       ...      ...         ...       ...       ...\n194   NFLX      37.0   550.56  2025-10-19  20370.72  6.310936\n195   NVDA      33.0  1958.20  2025-10-21  64620.60  7.579781\n196   AMZN       8.0  1195.39  2025-10-05   9563.12  7.086228\n197   MSFT      44.0   726.71  2025-10-18  31975.24  6.588527\n198  GOOGL      44.0   834.52  2025-10-28  36718.88  6.726857\n\n[194 rows x 6 columns]\n\nAprès tri par prix décroissant :\n    action  quantite     prix        date      total  prix_log\n126   MSFT      29.0  2988.00  2025-10-06   86652.00  8.002360\n184   TSLA      23.0  2987.70  2025-10-24   68717.10  8.002259\n38   GOOGL      49.0  2939.56  2025-10-17  144038.44  7.986015\n125   MSFT      24.0  2924.03  2025-10-02   70176.72  7.980718\n7       FB      16.0  2910.13  2025-10-21   46562.08  7.975953\n..     ...       ...      ...         ...        ...       ...\n175   AAPL      16.0   178.03  2025-10-16    2848.48  5.181952\n9     AMZN       3.0   171.15  2025-10-13     513.45  5.142540\n85    NVDA       8.0   165.60  2025-10-01    1324.80  5.109575\n73    AMZN       2.0   164.94  2025-10-19     329.88  5.105582\n40    INTC       1.0   100.63  2025-10-21     100.63  4.611450\n\n[194 rows x 6 columns]\n"
        }
      ],
      "execution_count": 5
    },
    {
      "id": "e85ababf-f6ec-4932-b93d-91cce4f9eaaf",
      "cell_type": "code",
      "source": "#  Calculer le total des quantités par action\ntotaux = df.groupby(\"action\")[\"quantite\"].sum()\nprint(\"\\nTotal des quantités par action :\")\nprint(totaux)\n# Exporter le DataFrame final\ndf.to_csv(\"transactions_clean.csv\", index=False)\nprint(\"\\nDataFrame final exporté dans 'transactions_clean.csv'\")",
      "metadata": {
        "trusted": true
      },
      "outputs": [
        {
          "name": "stdout",
          "output_type": "stream",
          "text": "\nTotal des quantités par action :\naction\nAAPL     598.0\nAMD      501.0\nAMZN     459.0\nFB       773.0\nGOOGL    491.0\nINTC     481.0\nMSFT     436.0\nNFLX     331.0\nNVDA     623.0\nTSLA     460.0\nName: quantite, dtype: float64\n\nDataFrame final exporté dans 'transactions_clean.csv'\n"
        }
      ],
      "execution_count": 6
    },
    {
      "id": "3e2b18b2-bd70-4d9d-adb1-77d3fab04b16",
      "cell_type": "code",
      "source": "",
      "metadata": {
        "trusted": true
      },
      "outputs": [],
      "execution_count": null
    }
  ]
}